{
 "cells": [
  {
   "cell_type": "code",
   "execution_count": 8,
   "id": "12974664",
   "metadata": {},
   "outputs": [],
   "source": [
    "from random import randint\n",
    "import win32com.client as win32"
   ]
  },
  {
   "cell_type": "code",
   "execution_count": 9,
   "id": "7b41978d",
   "metadata": {},
   "outputs": [],
   "source": [
    "outlook = win32.Dispatch('outlook.application')"
   ]
  },
  {
   "cell_type": "code",
   "execution_count": 2,
   "id": "8dfe6d84",
   "metadata": {},
   "outputs": [],
   "source": [
    "class Amigo:\n",
    "    def __init__(self, nome, email, presente):\n",
    "        self.nome = nome\n",
    "        self.email = email\n",
    "        self.presente = presente"
   ]
  },
  {
   "cell_type": "code",
   "execution_count": 3,
   "id": "68a88926",
   "metadata": {},
   "outputs": [],
   "source": [
    "class AmigoOculto:\n",
    "    def __init__(self, quantidade_amigos):\n",
    "        self.quantidade_amigos = quantidade_amigos\n",
    "        self.amigos = []\n",
    "        self.amigos_aux = []\n",
    "    \n",
    "    def obter_pessoas(self):\n",
    "        \n",
    "        for i in range(self.quantidade_amigos):\n",
    "            print(f'---- AMIGO {i+1} ----')\n",
    "            nome = input('Nome: ')\n",
    "            email = input('E-mail: ')\n",
    "            presente = input('Presente desejado: ')\n",
    "            \n",
    "            try:\n",
    "                self.amigos.append(Amigo(nome, email, presente))\n",
    "                self.amigos_aux.append(Amigo(nome, email, presente))\n",
    "                print('Amigo criado com sucesso!')\n",
    "            except:\n",
    "                print('Erro ao criar o amigo.')\n",
    "    \n",
    "    def sortear(self):\n",
    "        \n",
    "        self.sorteio = {}\n",
    "        \n",
    "        for amigo in self.amigos:\n",
    "            index = randint(0, len(self.amigos_aux)-1)\n",
    "            \n",
    "            while amigo.nome == self.amigos_aux[index].nome:\n",
    "                index = randint(0, len(self.amigos_aux)-1)\n",
    "    \n",
    "            self.sorteio[amigo] = self.amigos_aux[index]\n",
    "            print(f'{amigo.nome} sorteou {self.amigos_aux[index].nome}')\n",
    "            del self.amigos_aux[index]\n",
    "    \n",
    "    \n",
    "    def enviar_email(self):\n",
    "        \n",
    "        for amigo in self.amigos.keys():\n",
    "            email = outlook.CreateItem(0)\n",
    "            email.To = amigo.email\n",
    "            email.Subject = 'Sorteio Amigo Oculto'\n",
    "            \n",
    "            email.HTMLBody = f\"\"\"\n",
    "                <p>Olá {amigo.nome.title()}.</p>\n",
    "                \n",
    "                <p>Seu amigo oculto é: {self.sorteio[amigo].nome.title()}</p>\n",
    "                <p>O presente desejado por ele(a) é: {self.sorteio[amigo].presente}\n",
    "                <p>Abs,</p>\n",
    "                <p>Código do Sorteio em Python</p>\n",
    "                \"\"\"\n",
    "            email.Send()\n",
    "            print('O e-mail foi enviado.')\n",
    "            \n",
    "    "
   ]
  },
  {
   "cell_type": "code",
   "execution_count": 4,
   "id": "703c722c",
   "metadata": {},
   "outputs": [],
   "source": [
    "jogo = AmigoOculto(3)"
   ]
  },
  {
   "cell_type": "code",
   "execution_count": 5,
   "id": "70d70479",
   "metadata": {},
   "outputs": [
    {
     "name": "stdout",
     "output_type": "stream",
     "text": [
      "---- AMIGO 1 ----\n",
      "Nome: joao\n",
      "E-mail: joao@\n",
      "Presente desejado: ps5\n",
      "Amigo criado com sucesso!\n",
      "---- AMIGO 2 ----\n",
      "Nome: maria\n",
      "E-mail: maria@\n",
      "Presente desejado: ps5\n",
      "Amigo criado com sucesso!\n",
      "---- AMIGO 3 ----\n",
      "Nome: estela\n",
      "E-mail: estela@\n",
      "Presente desejado: make\n",
      "Amigo criado com sucesso!\n"
     ]
    }
   ],
   "source": [
    "jogo.obter_pessoas()"
   ]
  },
  {
   "cell_type": "code",
   "execution_count": 6,
   "id": "4b2b191f",
   "metadata": {},
   "outputs": [
    {
     "name": "stdout",
     "output_type": "stream",
     "text": [
      "joao sorteou estela\n",
      "maria sorteou joao\n",
      "estela sorteou maria\n"
     ]
    }
   ],
   "source": [
    "jogo.sortear()"
   ]
  },
  {
   "cell_type": "code",
   "execution_count": 7,
   "id": "e0159d8d",
   "metadata": {},
   "outputs": [
    {
     "data": {
      "text/plain": [
       "{<__main__.Amigo at 0x1528f650670>: <__main__.Amigo at 0x1528f694fd0>,\n",
       " <__main__.Amigo at 0x1528f694d60>: <__main__.Amigo at 0x1528f6508b0>,\n",
       " <__main__.Amigo at 0x1528f6941c0>: <__main__.Amigo at 0x1528f694dc0>}"
      ]
     },
     "execution_count": 7,
     "metadata": {},
     "output_type": "execute_result"
    }
   ],
   "source": [
    "jogo.sorteio"
   ]
  },
  {
   "cell_type": "code",
   "execution_count": null,
   "id": "a36794e7",
   "metadata": {},
   "outputs": [],
   "source": []
  }
 ],
 "metadata": {
  "kernelspec": {
   "display_name": "Python 3",
   "language": "python",
   "name": "python3"
  },
  "language_info": {
   "codemirror_mode": {
    "name": "ipython",
    "version": 3
   },
   "file_extension": ".py",
   "mimetype": "text/x-python",
   "name": "python",
   "nbconvert_exporter": "python",
   "pygments_lexer": "ipython3",
   "version": "3.8.8"
  }
 },
 "nbformat": 4,
 "nbformat_minor": 5
}
